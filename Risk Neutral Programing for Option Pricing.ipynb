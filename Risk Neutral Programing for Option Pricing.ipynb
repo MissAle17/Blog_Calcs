{
 "cells": [
  {
   "cell_type": "code",
   "execution_count": 1,
   "metadata": {},
   "outputs": [],
   "source": [
    "import numpy as np\n",
    "import math\n"
   ]
  },
  {
   "cell_type": "markdown",
   "metadata": {},
   "source": [
    "Risk Neutral Binomial Pricing"
   ]
  },
  {
   "cell_type": "code",
   "execution_count": 2,
   "metadata": {},
   "outputs": [],
   "source": [
    "def up_move(sigma, time):\n",
    "    #size of the up move factor\n",
    "    #sigma is annual Volatility\n",
    "    #time is the length of time in the model\n",
    "    return math.exp(sigma * math.sqrt(time))"
   ]
  },
  {
   "cell_type": "code",
   "execution_count": 3,
   "metadata": {},
   "outputs": [],
   "source": [
    "def down_move(up_move):\n",
    "    #size fo the down move factor\n",
    "    #the down move factor is the inverse of the upmove factor\n",
    "    return 1/up_move"
   ]
  },
  {
   "cell_type": "code",
   "execution_count": 4,
   "metadata": {},
   "outputs": [],
   "source": [
    "def up_rn_prob(rate, time, down_move, up_move):\n",
    "    #risk neutral probability of an upward move\n",
    "    #rate is the applicable risk free annual interest rate, continuously compounded\n",
    "    #time is as previous\n",
    "    return (math.exp(rate * time)- down_move)/(up_move - down_move)"
   ]
  },
  {
   "cell_type": "code",
   "execution_count": 5,
   "metadata": {},
   "outputs": [],
   "source": [
    "def down_rn_prob(up_rn_prob):\n",
    "    #risk neutral probability of an downward move\n",
    "    #probabilities must sum to 1, in 2 state world down propbability is 1- up probability\n",
    "    return 1-up_rn_prob"
   ]
  },
  {
   "cell_type": "code",
   "execution_count": 6,
   "metadata": {},
   "outputs": [],
   "source": [
    "def up_price(price, up_move):\n",
    "    #the stock value at time, t in up state\n",
    "    #price is the current stock price\n",
    "    return price*up_move\n",
    "\n",
    "def down_price(price, down_move):\n",
    "    #the stock value at time t, in down state\n",
    "    #price is the current stock price\n",
    "    return price*down_move"
   ]
  },
  {
   "cell_type": "code",
   "execution_count": 7,
   "metadata": {},
   "outputs": [],
   "source": [
    "def future_upcall_value(price, up_price):\n",
    "    #call value at time, t in up state\n",
    "    #price is the current stock price\n",
    "    return max(0, up_price-price)\n",
    "\n",
    "def future_downcall_value(price, down_price):\n",
    "    #call value at time t, in down state\n",
    "    #price is the current stock price\n",
    "    return max(0, down_price-price)"
   ]
  },
  {
   "cell_type": "code",
   "execution_count": 8,
   "metadata": {},
   "outputs": [],
   "source": [
    "def ev_call(future_upcall_value,up_rn_prob,future_downcall_value,down_rn_prob):\n",
    "    #expected value of the call option at time t\n",
    "    return (future_upcall_value * up_rn_prob) + (future_downcall_value * down_rn_prob)"
   ]
  },
  {
   "cell_type": "code",
   "execution_count": 9,
   "metadata": {},
   "outputs": [],
   "source": [
    "def current_rn_call_value(ev_call,rate, time):\n",
    "    #rate and time are as previous\n",
    "    return ev_call/(math.exp(rate*time))"
   ]
  },
  {
   "cell_type": "code",
   "execution_count": 12,
   "metadata": {},
   "outputs": [],
   "source": [
    "def Binomial_Option(price, time, sigma, rate):\n",
    "    u = up_move(sigma, time)\n",
    "    d = down_move(u)\n",
    "    p_u = up_rn_prob(rate, time, d, u)\n",
    "    p_d = down_rn_prob(p_u)\n",
    "    s_u = up_price(price, u)\n",
    "    s_d = down_price(price, d)\n",
    "    c_u = future_upcall_value(price, s_u)\n",
    "    c_d = future_downcall_value(price, s_d)\n",
    "    ev = ev_call(c_u,p_u,c_d,p_d)\n",
    "    print(\"The current call value is ${}\".format(round(current_rn_call_value(ev,rate, time),2)))"
   ]
  },
  {
   "cell_type": "code",
   "execution_count": 13,
   "metadata": {},
   "outputs": [
    {
     "name": "stdout",
     "output_type": "stream",
     "text": [
      "The current call value is $1.76\n"
     ]
    }
   ],
   "source": [
    "Binomial_Option(20,1,0.14,0.04)"
   ]
  },
  {
   "cell_type": "code",
   "execution_count": 17,
   "metadata": {},
   "outputs": [],
   "source": [
    "def Binomial_model(price, time, sigma, rate):\n",
    "    u = math.exp(sigma * math.sqrt(time))\n",
    "    d = 1/u\n",
    "    p_u = (math.exp(rate * time)- d)/(u - d)\n",
    "    p_d = 1-p_u\n",
    "    s_u = price*u\n",
    "    s_d = price*d\n",
    "    c_u = max(0, s_u-price)\n",
    "    c_d = max(0,s_d-price)\n",
    "    ev = (c_u*p_u)+(c_d*p_d)\n",
    "    print(\"The current call value is ${}\".format(round((ev/(math.exp(rate*time))),2)))"
   ]
  },
  {
   "cell_type": "code",
   "execution_count": 18,
   "metadata": {},
   "outputs": [
    {
     "name": "stdout",
     "output_type": "stream",
     "text": [
      "The current call value is $1.76\n"
     ]
    }
   ],
   "source": [
    "Binomial_model(20,1,0.14,0.04)"
   ]
  },
  {
   "cell_type": "code",
   "execution_count": 22,
   "metadata": {},
   "outputs": [],
   "source": [
    "def Binomial_2_step(strike, price, time, sigma, rate):\n",
    "    #up and down move factors in one period\n",
    "    t1=time/2\n",
    "    u = math.exp(sigma * math.sqrt(t1))\n",
    "    d = 1/u\n",
    "    \n",
    "    #risk neutral propbabilities in one period\n",
    "    p_u = (math.exp(rate * t1)- d)/(u - d)\n",
    "    p_d = 1-p_u\n",
    "    \n",
    "    #future stock prices\n",
    "    #first step\n",
    "    s_u = price*u\n",
    "    s_d = price*d\n",
    "    #second step\n",
    "    s_uu = s_u*u\n",
    "    s_ud = s_u*d\n",
    "    s_du = s_d*u\n",
    "    s_dd = s_d*d\n",
    "    \n",
    "    #future call prices\n",
    "    #second step\n",
    "    c_uu = max(0, s_uu-strike)\n",
    "    c_ud = max(0, s_ud-strike)\n",
    "    c_du = max(0, s_du-strike)\n",
    "    c_dd = max(0, s_dd-strike)\n",
    "    \n",
    "    #expected value of the call \n",
    "    ev = (p_u*p_u*c_uu)+(p_u*p_d*c_ud)+(p_d*p_u*c_du)+(p_d*p_d*c_dd)\n",
    "    print(\"The current call value is ${}\".format(round((ev/(math.exp(rate*time))),2)))\n",
    "    "
   ]
  },
  {
   "cell_type": "code",
   "execution_count": 23,
   "metadata": {},
   "outputs": [
    {
     "name": "stdout",
     "output_type": "stream",
     "text": [
      "The current call value is $2.22\n"
     ]
    }
   ],
   "source": [
    "Binomial_2_step(20,20,2,0.14,0.04)"
   ]
  },
  {
   "cell_type": "code",
   "execution_count": null,
   "metadata": {},
   "outputs": [],
   "source": []
  },
  {
   "cell_type": "code",
   "execution_count": null,
   "metadata": {},
   "outputs": [],
   "source": []
  }
 ],
 "metadata": {
  "kernelspec": {
   "display_name": "Python 3",
   "language": "python",
   "name": "python3"
  },
  "language_info": {
   "codemirror_mode": {
    "name": "ipython",
    "version": 3
   },
   "file_extension": ".py",
   "mimetype": "text/x-python",
   "name": "python",
   "nbconvert_exporter": "python",
   "pygments_lexer": "ipython3",
   "version": "3.7.4"
  }
 },
 "nbformat": 4,
 "nbformat_minor": 2
}
