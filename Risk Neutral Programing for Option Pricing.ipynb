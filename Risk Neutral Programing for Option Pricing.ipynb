{
 "cells": [
  {
   "cell_type": "code",
   "execution_count": 1,
   "metadata": {},
   "outputs": [],
   "source": [
    "import numpy as np\n",
    "import math\n"
   ]
  },
  {
   "cell_type": "markdown",
   "metadata": {},
   "source": [
    "Risk Neutral Binomial Pricing"
   ]
  },
  {
   "cell_type": "code",
   "execution_count": 12,
   "metadata": {},
   "outputs": [],
   "source": [
    "def up_move(sigma, time):\n",
    "    #size of the up move factor\n",
    "    #sigma is annual Volatility\n",
    "    #time is the length of time in the model\n",
    "    return math.exp(sigma * math.sqrt(time))"
   ]
  },
  {
   "cell_type": "code",
   "execution_count": 3,
   "metadata": {},
   "outputs": [],
   "source": [
    "def down_move(up_move):\n",
    "    #size fo the down move factor\n",
    "    #the down move factor is the inverse of the upmove factor\n",
    "    return 1/up_move"
   ]
  },
  {
   "cell_type": "code",
   "execution_count": 4,
   "metadata": {},
   "outputs": [],
   "source": [
    "def up_rn_prob(rate, time, down_move, up_move):\n",
    "    #risk neutral probability of an upward move\n",
    "    #rate is the applicable risk free annual interest rate, continuously compounded\n",
    "    #time is as previous\n",
    "    return (math.exp(rate * time)- down_move)/(up_move - down_move)"
   ]
  },
  {
   "cell_type": "code",
   "execution_count": 5,
   "metadata": {},
   "outputs": [],
   "source": [
    "def down_rn_prob(up_rn_prob):\n",
    "    #risk neutral probability of an downward move\n",
    "    #probabilities must sum to 1, in 2 state world down propbability is 1- up probability\n",
    "    return 1-up_rn_prob"
   ]
  },
  {
   "cell_type": "code",
   "execution_count": 7,
   "metadata": {},
   "outputs": [],
   "source": [
    "def up_price(price, up_move):\n",
    "    #the stock value at time, t in up state\n",
    "    #price is the current stock price\n",
    "    return price*up_move\n",
    "\n",
    "def down_price(price, down_move):\n",
    "    #the stock value at time t, in down state\n",
    "    #price is the current stock price\n",
    "    return price*down_move"
   ]
  },
  {
   "cell_type": "code",
   "execution_count": 8,
   "metadata": {},
   "outputs": [],
   "source": [
    "def future_upcall_value(price, up_price):\n",
    "    #call value at time, t in up state\n",
    "    #price is the current stock price\n",
    "    return max(0, up_price-price)\n",
    "\n",
    "def future_downcall_value(price, down_price):\n",
    "    #call value at time t, in down state\n",
    "    #price is the current stock price\n",
    "    return max(0, down_price-price)"
   ]
  },
  {
   "cell_type": "code",
   "execution_count": 10,
   "metadata": {},
   "outputs": [],
   "source": [
    "def ev_call(future_upcall_value,up_rn_prob,future_downcall_value,down_rn_prob):\n",
    "    #expected value of the call option at time t\n",
    "    return (future_upcall_value * up_rn_prob) + (future_downcall_value * down_rn_prob)"
   ]
  },
  {
   "cell_type": "code",
   "execution_count": 9,
   "metadata": {},
   "outputs": [],
   "source": [
    "def current_rn_call_value(ev_call,rate, time):\n",
    "    #rate and time are as previous\n",
    "    return ev_call/(math.exp(rate*time))"
   ]
  },
  {
   "cell_type": "code",
   "execution_count": 15,
   "metadata": {},
   "outputs": [],
   "source": [
    "def Binomial_Option(price, time, sigma, rate):\n",
    "    u = up_move(sigma, time)\n",
    "    d = down_move(u)\n",
    "    p_u = up_rn_prob(rate, time, d, u)\n",
    "    p_d = down_rn_prob(p_u)\n",
    "    s_u = up_price(price, u)\n",
    "    s_d = down_price(price, d)\n",
    "    c_u = future_upcall_value(price, s_u)\n",
    "    c_d = future_downcall_value(price, s_d)\n",
    "    ev = ev_call(c_u,p_u,c_d,p_d)\n",
    "    print(\"The current call value is \\${}\".format(round(current_rn_call_value(ev,rate, time),2)))"
   ]
  },
  {
   "cell_type": "code",
   "execution_count": 16,
   "metadata": {},
   "outputs": [
    {
     "ename": "NameError",
     "evalue": "name 'exp' is not defined",
     "output_type": "error",
     "traceback": [
      "\u001b[0;31m---------------------------------------------------------------------------\u001b[0m",
      "\u001b[0;31mNameError\u001b[0m                                 Traceback (most recent call last)",
      "\u001b[0;32m<ipython-input-16-8dd98cfdc741>\u001b[0m in \u001b[0;36m<module>\u001b[0;34m\u001b[0m\n\u001b[0;32m----> 1\u001b[0;31m \u001b[0mBinomial_Option\u001b[0m\u001b[0;34m(\u001b[0m\u001b[0;36m20\u001b[0m\u001b[0;34m,\u001b[0m\u001b[0;36m1\u001b[0m\u001b[0;34m,\u001b[0m\u001b[0;36m0.14\u001b[0m\u001b[0;34m,\u001b[0m\u001b[0;36m0.04\u001b[0m\u001b[0;34m)\u001b[0m\u001b[0;34m\u001b[0m\u001b[0;34m\u001b[0m\u001b[0m\n\u001b[0m",
      "\u001b[0;32m<ipython-input-15-ba9e676257be>\u001b[0m in \u001b[0;36mBinomial_Option\u001b[0;34m(price, time, sigma, rate)\u001b[0m\n\u001b[1;32m      2\u001b[0m     \u001b[0mu\u001b[0m \u001b[0;34m=\u001b[0m \u001b[0mup_move\u001b[0m\u001b[0;34m(\u001b[0m\u001b[0msigma\u001b[0m\u001b[0;34m,\u001b[0m \u001b[0mtime\u001b[0m\u001b[0;34m)\u001b[0m\u001b[0;34m\u001b[0m\u001b[0;34m\u001b[0m\u001b[0m\n\u001b[1;32m      3\u001b[0m     \u001b[0md\u001b[0m \u001b[0;34m=\u001b[0m \u001b[0mdown_move\u001b[0m\u001b[0;34m(\u001b[0m\u001b[0mu\u001b[0m\u001b[0;34m)\u001b[0m\u001b[0;34m\u001b[0m\u001b[0;34m\u001b[0m\u001b[0m\n\u001b[0;32m----> 4\u001b[0;31m     \u001b[0mp_u\u001b[0m \u001b[0;34m=\u001b[0m \u001b[0mup_rn_prob\u001b[0m\u001b[0;34m(\u001b[0m\u001b[0mrate\u001b[0m\u001b[0;34m,\u001b[0m \u001b[0mtime\u001b[0m\u001b[0;34m,\u001b[0m \u001b[0md\u001b[0m\u001b[0;34m,\u001b[0m \u001b[0mu\u001b[0m\u001b[0;34m)\u001b[0m\u001b[0;34m\u001b[0m\u001b[0;34m\u001b[0m\u001b[0m\n\u001b[0m\u001b[1;32m      5\u001b[0m     \u001b[0mp_d\u001b[0m \u001b[0;34m=\u001b[0m \u001b[0mdown_rn_prob\u001b[0m\u001b[0;34m(\u001b[0m\u001b[0mp_u\u001b[0m\u001b[0;34m)\u001b[0m\u001b[0;34m\u001b[0m\u001b[0;34m\u001b[0m\u001b[0m\n\u001b[1;32m      6\u001b[0m     \u001b[0ms_u\u001b[0m \u001b[0;34m=\u001b[0m \u001b[0mup_price\u001b[0m\u001b[0;34m(\u001b[0m\u001b[0mprice\u001b[0m\u001b[0;34m,\u001b[0m \u001b[0mu\u001b[0m\u001b[0;34m)\u001b[0m\u001b[0;34m\u001b[0m\u001b[0;34m\u001b[0m\u001b[0m\n",
      "\u001b[0;32m<ipython-input-4-a9bc7b97dda3>\u001b[0m in \u001b[0;36mup_rn_prob\u001b[0;34m(rate, time, down_move, up_move)\u001b[0m\n\u001b[1;32m      2\u001b[0m     \u001b[0;31m#rate is the applicable risk free annual interest rate, continuously compounded\u001b[0m\u001b[0;34m\u001b[0m\u001b[0;34m\u001b[0m\u001b[0;34m\u001b[0m\u001b[0m\n\u001b[1;32m      3\u001b[0m     \u001b[0;31m#\u001b[0m\u001b[0;34m\u001b[0m\u001b[0;34m\u001b[0m\u001b[0;34m\u001b[0m\u001b[0m\n\u001b[0;32m----> 4\u001b[0;31m     \u001b[0;32mreturn\u001b[0m \u001b[0;34m(\u001b[0m\u001b[0mexp\u001b[0m\u001b[0;34m(\u001b[0m\u001b[0mrate\u001b[0m \u001b[0;34m*\u001b[0m \u001b[0mtime\u001b[0m\u001b[0;34m)\u001b[0m\u001b[0;34m-\u001b[0m \u001b[0mdown_move\u001b[0m\u001b[0;34m)\u001b[0m\u001b[0;34m/\u001b[0m\u001b[0;34m(\u001b[0m\u001b[0mup_move\u001b[0m \u001b[0;34m-\u001b[0m \u001b[0mdown_move\u001b[0m\u001b[0;34m)\u001b[0m\u001b[0;34m\u001b[0m\u001b[0;34m\u001b[0m\u001b[0m\n\u001b[0m",
      "\u001b[0;31mNameError\u001b[0m: name 'exp' is not defined"
     ]
    }
   ],
   "source": [
    "Binomial_Option(20,1,0.14,0.04)"
   ]
  },
  {
   "cell_type": "code",
   "execution_count": null,
   "metadata": {},
   "outputs": [],
   "source": []
  }
 ],
 "metadata": {
  "kernelspec": {
   "display_name": "Python 3",
   "language": "python",
   "name": "python3"
  },
  "language_info": {
   "codemirror_mode": {
    "name": "ipython",
    "version": 3
   },
   "file_extension": ".py",
   "mimetype": "text/x-python",
   "name": "python",
   "nbconvert_exporter": "python",
   "pygments_lexer": "ipython3",
   "version": "3.7.4"
  }
 },
 "nbformat": 4,
 "nbformat_minor": 2
}
