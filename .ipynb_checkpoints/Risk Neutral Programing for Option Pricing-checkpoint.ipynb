{
 "cells": [
  {
   "cell_type": "markdown",
   "metadata": {},
   "source": [
    "## Risk Neutral Binomial Pricing\n",
    "\n",
    "We're constructing each section of the binomial option pricing model separately, then we will converge them to a 2-step model.  Additional detail is included in the blog posts below as well as a futher description discussin the binomial model convergence to the Black-Scholes-Merton Model.\n",
    "\n",
    "[Section 1](https://aleighasardina.wordpress.com/2020/03/06/binomial-models-in-option-pricing-part-1/)\n",
    "[Section 2](https://aleighasardina.wordpress.com/2020/03/19/binomial-models-in-option-pricing-part-2/)\n",
    "[Section 3](https://aleighasardina.wordpress.com/2020/03/27/binomial-models-in-option-pricing-part-3/)\n",
    "[Feature aside](https://aleighasardina.wordpress.com/2020/04/03/binomial-model-feature-changes/)\n",
    "[Section 4](https://aleighasardina.wordpress.com/2020/04/11/binomial-models-in-option-pricing-part-4/)\n",
    "[Section 5](https://aleighasardina.wordpress.com/2020/04/18/binomial-models-in-option-pricing-part-5/)"
   ]
  },
  {
   "cell_type": "markdown",
   "metadata": {},
   "source": [
    "We'll import the standard libraries first, then add more as they are needed."
   ]
  },
  {
   "cell_type": "code",
   "execution_count": null,
   "metadata": {},
   "outputs": [],
   "source": [
    "import numpy as np\n",
    "import math\n",
    "import matplotlib.pyplot as plt\n",
    "%matplotlib inline"
   ]
  },
  {
   "cell_type": "markdown",
   "metadata": {},
   "source": [
    "Creating a function here for each sub-part of the binomial tree model for ease of reference.  Each subsection has detail on the calculation and the over all descriptions can be found in the blog.\n"
   ]
  },
  {
   "cell_type": "code",
   "execution_count": 2,
   "metadata": {},
   "outputs": [],
   "source": [
    "def up_move(sigma, time):\n",
    "    #size of the up move factor\n",
    "    #sigma is annual Volatility\n",
    "    #time is the length of time in the model\n",
    "    return np.exp(sigma * np.sqrt(time))"
   ]
  },
  {
   "cell_type": "code",
   "execution_count": 3,
   "metadata": {},
   "outputs": [],
   "source": [
    "def down_move(up_move):\n",
    "    #size fo the down move factor\n",
    "    #the down move factor is the inverse of the upmove factor\n",
    "    return 1/up_move"
   ]
  },
  {
   "cell_type": "code",
   "execution_count": 4,
   "metadata": {},
   "outputs": [],
   "source": [
    "def up_rn_prob(rate, time, down_move, up_move):\n",
    "    #risk neutral probability of an upward move\n",
    "    #rate is the applicable risk free annual interest rate, continuously compounded\n",
    "    #time is as previous\n",
    "    return (np.exp(rate * time)- down_move)/(up_move - down_move)"
   ]
  },
  {
   "cell_type": "code",
   "execution_count": 5,
   "metadata": {},
   "outputs": [],
   "source": [
    "def down_rn_prob(up_rn_prob):\n",
    "    #risk neutral probability of an downward move\n",
    "    #probabilities must sum to 1, in 2 state world down propbability is 1- up probability\n",
    "    return 1-up_rn_prob"
   ]
  },
  {
   "cell_type": "code",
   "execution_count": 6,
   "metadata": {},
   "outputs": [],
   "source": [
    "def up_price(price, up_move):\n",
    "    #the stock value at time, t in up state\n",
    "    #price is the current stock price\n",
    "    return price*up_move\n",
    "\n",
    "def down_price(price, down_move):\n",
    "    #the stock value at time t, in down state\n",
    "    #price is the current stock price\n",
    "    return price*down_move"
   ]
  },
  {
   "cell_type": "markdown",
   "metadata": {},
   "source": [
    "Here's we'll test and print each sub section so that we can see the math at work and check on the progress."
   ]
  },
  {
   "cell_type": "code",
   "execution_count": 7,
   "metadata": {},
   "outputs": [
    {
     "name": "stdout",
     "output_type": "stream",
     "text": [
      "The up move factor is: 1.1502737988572274.\n",
      "The down move factor is: 0.8693582353988057.\n",
      "The risk neutral probability of up-state is: 0.6103347806108977.\n",
      "The risk neutral probability of down-state is: 0.38966521938910226.\n",
      "The stock price in the up-state is: 23.00547597714455.\n",
      "The stock price in the down-state is: 17.387164707976115.\n"
     ]
    }
   ],
   "source": [
    "s = 0.14\n",
    "t = 1\n",
    "price = 20\n",
    "rate = 0.04\n",
    "\n",
    "u = up_move(s,t)\n",
    "d = down_move(u)\n",
    "\n",
    "upr = up_rn_prob(rate,t,d,u)\n",
    "dpr = down_rn_prob(upr)\n",
    "\n",
    "su = up_price(price,u)\n",
    "sd = down_price(price,d)\n",
    "\n",
    "print(f\"The up move factor is: {u}.\")\n",
    "print(f\"The down move factor is: {d}.\")\n",
    "print(f\"The risk neutral probability of up-state is: {upr}.\")\n",
    "print(f\"The risk neutral probability of down-state is: {dpr}.\")\n",
    "print(f\"The stock price in the up-state is: {su}.\")\n",
    "print(f\"The stock price in the down-state is: {sd}.\")"
   ]
  },
  {
   "cell_type": "markdown",
   "metadata": {},
   "source": [
    "All the factores and stock prices are done.  Now the next step is to do the same for the call value in the furture states and then weight the expected value by the risk neutral probability before discoutning the call value back to the present."
   ]
  },
  {
   "cell_type": "code",
   "execution_count": 8,
   "metadata": {},
   "outputs": [],
   "source": [
    "def future_upcall_value(price, up_price):\n",
    "    #call value at time, t in up state\n",
    "    #price is the current stock price\n",
    "    return max(0, up_price-price)\n",
    "\n",
    "def future_downcall_value(price, down_price):\n",
    "    #call value at time t, in down state\n",
    "    #price is the current stock price\n",
    "    return max(0, down_price-price)"
   ]
  },
  {
   "cell_type": "code",
   "execution_count": 9,
   "metadata": {},
   "outputs": [],
   "source": [
    "def ev_call(future_upcall_value,up_rn_prob,future_downcall_value,down_rn_prob):\n",
    "    #expected value of the call option at time t\n",
    "    return (future_upcall_value * up_rn_prob) + (future_downcall_value * down_rn_prob)"
   ]
  },
  {
   "cell_type": "code",
   "execution_count": 10,
   "metadata": {},
   "outputs": [],
   "source": [
    "def current_rn_call_value(ev_call,rate, time):\n",
    "    #rate and time are as previous\n",
    "    return ev_call/(np.exp(rate*time))"
   ]
  },
  {
   "cell_type": "markdown",
   "metadata": {},
   "source": [
    "Once again testing the math, and looking at our progress."
   ]
  },
  {
   "cell_type": "code",
   "execution_count": 11,
   "metadata": {},
   "outputs": [
    {
     "name": "stdout",
     "output_type": "stream",
     "text": [
      "The up call payout is: 3.005475977144549.\n",
      "The down call payout is: 0.\n",
      "The expected value fo the call at time, t is: 1.8343465211418417.\n",
      "The current call value is: 1.7624207652588852.\n"
     ]
    }
   ],
   "source": [
    "cu = future_upcall_value(price, su)\n",
    "cd = future_downcall_value(price, sd)\n",
    "\n",
    "ev = ev_call(cu,upr,cd,dpr)\n",
    "pv = current_rn_call_value(ev,rate, t)\n",
    "\n",
    "print(f\"The up call payout is: {cu}.\")\n",
    "print(f\"The down call payout is: {cd}.\")\n",
    "print(f\"The expected value fo the call at time, t is: {ev}.\")\n",
    "print(f\"The current call value is: {pv}.\")"
   ]
  },
  {
   "cell_type": "markdown",
   "metadata": {},
   "source": [
    "We have the helper functions so we can combine them into one Binomial model for a single step tree."
   ]
  },
  {
   "cell_type": "code",
   "execution_count": 12,
   "metadata": {},
   "outputs": [],
   "source": [
    "def Binomial_Option(price, time, sigma, rate):\n",
    "    u = up_move(sigma, time)\n",
    "    d = down_move(u)\n",
    "    p_u = up_rn_prob(rate, time, d, u)\n",
    "    p_d = down_rn_prob(p_u)\n",
    "    s_u = up_price(price, u)\n",
    "    s_d = down_price(price, d)\n",
    "    c_u = future_upcall_value(price, s_u)\n",
    "    c_d = future_downcall_value(price, s_d)\n",
    "    ev = ev_call(c_u,p_u,c_d,p_d)\n",
    "    print(\"The current call value is ${}\".format(round(current_rn_call_value(ev,rate, time),2)))"
   ]
  },
  {
   "cell_type": "code",
   "execution_count": 13,
   "metadata": {},
   "outputs": [
    {
     "name": "stdout",
     "output_type": "stream",
     "text": [
      "The current call value is $1.76\n"
     ]
    }
   ],
   "source": [
    "Binomial_Option(20,1,0.14,0.04)"
   ]
  },
  {
   "cell_type": "markdown",
   "metadata": {},
   "source": [
    "We are creating another version without the helper functions."
   ]
  },
  {
   "cell_type": "code",
   "execution_count": 14,
   "metadata": {},
   "outputs": [],
   "source": [
    "def Binomial_model(price, time, sigma, rate):\n",
    "    u = math.exp(sigma * math.sqrt(time))\n",
    "    d = 1/u\n",
    "    p_u = (math.exp(rate * time)- d)/(u - d)\n",
    "    p_d = 1-p_u\n",
    "    s_u = price*u\n",
    "    s_d = price*d\n",
    "    c_u = max(0, s_u-price)\n",
    "    c_d = max(0,s_d-price)\n",
    "    ev = (c_u*p_u)+(c_d*p_d)\n",
    "    print(\"The current call value is ${}\".format(round((ev/(math.exp(rate*time))),2)))"
   ]
  },
  {
   "cell_type": "code",
   "execution_count": 15,
   "metadata": {},
   "outputs": [
    {
     "name": "stdout",
     "output_type": "stream",
     "text": [
      "The current call value is $1.76\n"
     ]
    }
   ],
   "source": [
    "Binomial_model(20,1,0.14,0.04)"
   ]
  },
  {
   "cell_type": "markdown",
   "metadata": {},
   "source": [
    "Given the risk-neutral probability weights, we can extend the model and add another time step.  It will be constructed without the helper functions to show the math more clearly."
   ]
  },
  {
   "cell_type": "code",
   "execution_count": 16,
   "metadata": {},
   "outputs": [],
   "source": [
    "def Binomial_2_step(strike, price, time, sigma, rate):\n",
    "    #up and down move factors in one period\n",
    "    t1=time/2\n",
    "    u = math.exp(sigma * math.sqrt(t1))\n",
    "    d = 1/u\n",
    "    \n",
    "    #risk neutral propbabilities in one period\n",
    "    p_u = (math.exp(rate * t1)- d)/(u - d)\n",
    "    p_d = 1-p_u\n",
    "    \n",
    "    #future stock prices\n",
    "    #first step\n",
    "    s_u = price*u\n",
    "    s_d = price*d\n",
    "    #second step\n",
    "    s_uu = s_u*u\n",
    "    s_ud = s_u*d\n",
    "    s_du = s_d*u\n",
    "    s_dd = s_d*d\n",
    "    \n",
    "    #future call prices\n",
    "    #second step\n",
    "    c_uu = max(0, s_uu-strike)\n",
    "    c_ud = max(0, s_ud-strike)\n",
    "    c_du = max(0, s_du-strike)\n",
    "    c_dd = max(0, s_dd-strike)\n",
    "    \n",
    "    #expected value of the call \n",
    "    ev = (p_u*p_u*c_uu)+(p_u*p_d*c_ud)+(p_d*p_u*c_du)+(p_d*p_d*c_dd)\n",
    "    \n",
    "    #present value of the call\n",
    "    pv = (ev/(math.exp(rate*time)))\n",
    "    \n",
    "    print(\"The current call value is ${}\".format(round(pv,2)))\n",
    "    "
   ]
  },
  {
   "cell_type": "code",
   "execution_count": 17,
   "metadata": {},
   "outputs": [
    {
     "name": "stdout",
     "output_type": "stream",
     "text": [
      "The current call value is $2.22\n"
     ]
    }
   ],
   "source": [
    "Binomial_2_step(20,20,2,0.14,0.04)"
   ]
  },
  {
   "cell_type": "markdown",
   "metadata": {},
   "source": [
    "Now that we have a 2-step model done.  We are taking a quick break to discuss some adjustment that can be made to the Binomial model to account for some real situtations in the marketplace."
   ]
  },
  {
   "cell_type": "code",
   "execution_count": 18,
   "metadata": {},
   "outputs": [],
   "source": [
    "#put call parity - can value a put option based on a call option for the same stock\n",
    "\n",
    "def put(call, price, strike, rate, t):\n",
    "    print(\"The price of a corresponding put option is ${}.\".format(\n",
    "        round(call - price + strike*(np.exp(-rate*t)), 2)))"
   ]
  },
  {
   "cell_type": "code",
   "execution_count": 19,
   "metadata": {},
   "outputs": [
    {
     "name": "stdout",
     "output_type": "stream",
     "text": [
      "The price of a corresponding put option is $0.68.\n"
     ]
    }
   ],
   "source": [
    "put(2.22,20,20,.04,2)"
   ]
  },
  {
   "cell_type": "code",
   "execution_count": 20,
   "metadata": {
    "scrolled": true
   },
   "outputs": [
    {
     "name": "stdout",
     "output_type": "stream",
     "text": [
      "The price of a corresponding put option is $0.98.\n"
     ]
    }
   ],
   "source": [
    "put(1.76,20,20,.04,1)"
   ]
  },
  {
   "cell_type": "code",
   "execution_count": 21,
   "metadata": {},
   "outputs": [],
   "source": [
    "#up move probability changes to account for different option scenarios\n",
    "\n",
    "#up move probability with dividend yield\n",
    "def up_rn_prob_div(rate,q, time, down_move, up_move):\n",
    "    #risk neutral probability of an upward move\n",
    "    #rate is the applicable risk free annual interest rate, continuously compounded\n",
    "    #q represent the dividend yield\n",
    "    return (np.exp(rate-q * time)- down_move)/(up_move - down_move)\n",
    "\n",
    "\n",
    "#up move probability with underlying asset in a foreign currency\n",
    "def up_rn_prob_fc(rdc, rfc, time, down_move, up_move):\n",
    "    #risk neutral probability of an upward move\n",
    "    #rdc is the applicable risk free annual interest rate, continuously compounded in domestic currency\n",
    "    #rfc is the applicable risk free annual interest rate, continuously compounded in foreign currency\n",
    "    return (np.exp(rdc-rfc * time)- down_move)/(up_move - down_move)\n",
    "\n",
    "\n",
    "#up move probability of a futures contract\n",
    "def up_rn_prob_futures(down_move, up_move):\n",
    "    #risk neutral probability of an upward move\n",
    "    #in a risk neutral setting futures contracts are 0 growth instuments and require no growth factor\n",
    "    return (1- down_move)/(up_move - down_move)"
   ]
  },
  {
   "cell_type": "markdown",
   "metadata": {},
   "source": [
    "Given the complexity above in the Binomial model, adding a third time step is very messy this way, let alone adding 10.  Instead of storing each node in the tree as a variable, to make our calculations more efficient, we'll create a matrix using Nunmpy for the calculations.  We can store the values in the matrix and add an optional argument to display the matrix as a representation of the tree."
   ]
  },
  {
   "cell_type": "code",
   "execution_count": 22,
   "metadata": {},
   "outputs": [],
   "source": [
    "def Binomial_tree(N, T, price, sigma, r, strike, show_tree=False):\n",
    "    #N is the number of intervales, ie tree layers\n",
    "    #t is time to maturity\n",
    "    #generating the length of each time step and the up/down move factors\n",
    "    t = T/N\n",
    "    u = np.exp(sigma * np.sqrt(t))\n",
    "    d = 1/u\n",
    "\n",
    "    #risk neutral propbabilities in one period\n",
    "    p_u = (np.exp(r * t)- d)/(u - d)\n",
    "    p_d = 1-p_u\n",
    "    \n",
    "    #creating the stock tree begining with an empty matrix\n",
    "    stock_tree = np.zeros([N+1,N+1])\n",
    "    \n",
    "    #iterating over the matrix and populating the stock price at each node\n",
    "    for i in range(N+1):\n",
    "        for j in range(i+1):\n",
    "            stock_tree[j,i] = price * (u**(i-j))* (d**j)\n",
    "\n",
    "    #generating the option tree as an empty matrix as well\n",
    "    call_tree = np.zeros([N+1,N+1])\n",
    "\n",
    "    #value of the option at time, t\n",
    "    call_tree[:,N]= np.maximum(np.zeros(N + 1), (stock_tree[:, N] - strike))\n",
    "    \n",
    "    #iterating over the matrix using recursion (time, t to now)\n",
    "    for i in range(N - 1, -1, -1):\n",
    "        for j in range(0, i + 1):\n",
    "            call_tree[j, i] = (p_u * call_tree[j, i + 1] + p_d * call_tree[j + 1, i + 1])*(np.exp(-r*t))\n",
    "    \n",
    "    #Showing our trees if we are asked, if not only printing the call value \n",
    "    if show_tree:\n",
    "        print(stock_tree,\"\\n\\n\",call_tree,\n",
    "              \"\\n\\nThe current option value is ${}\".format(round(call_tree[0,0],2)))\n",
    "    else:\n",
    "        print(\"The current option value is ${}\".format(round(call_tree[0,0],2)))"
   ]
  },
  {
   "cell_type": "code",
   "execution_count": 23,
   "metadata": {},
   "outputs": [
    {
     "name": "stdout",
     "output_type": "stream",
     "text": [
      "[[20.         23.00547598 26.46259625]\n",
      " [ 0.         17.38716471 20.        ]\n",
      " [ 0.          0.         15.11567483]] \n",
      "\n",
      " [[2.22228474 3.78968719 6.46259625]\n",
      " [0.         0.         0.        ]\n",
      " [0.         0.         0.        ]] \n",
      "\n",
      "The current option value is $2.22\n"
     ]
    }
   ],
   "source": [
    "Binomial_tree(2,2, 20, 0.14, 0.04, 20, True)"
   ]
  },
  {
   "cell_type": "markdown",
   "metadata": {},
   "source": [
    "We can now extend the model and create a visual by adding time steps one by one.  First we'll have a look at a few, then we can see the number of steps converge to a single price.  This is clear in a visual we will create.  Later, we'll find that price is the one produced by the Black-Scholes-Merton model."
   ]
  },
  {
   "cell_type": "code",
   "execution_count": 51,
   "metadata": {},
   "outputs": [
    {
     "name": "stdout",
     "output_type": "stream",
     "text": [
      "For N of 1:\n",
      "The current option value is $1.76\n",
      "For N of 2:\n",
      "The current option value is $1.4\n",
      "For N of 3:\n",
      "The current option value is $1.61\n",
      "For N of 4:\n",
      "The current option value is $1.46\n",
      "For N of 5:\n",
      "The current option value is $1.58\n",
      "For N of 6:\n",
      "The current option value is $1.48\n",
      "For N of 7:\n",
      "The current option value is $1.57\n",
      "For N of 8:\n",
      "The current option value is $1.5\n",
      "For N of 9:\n",
      "The current option value is $1.56\n"
     ]
    }
   ],
   "source": [
    "for N in range(1,10,1):\n",
    "    print(f'For N of {N}:')\n",
    "    Binomial_tree(N,1, 20, 0.14, 0.04, 20, False)"
   ]
  },
  {
   "cell_type": "code",
   "execution_count": 23,
   "metadata": {},
   "outputs": [
    {
     "name": "stdout",
     "output_type": "stream",
     "text": [
      "The current option value is $1.53\n"
     ]
    }
   ],
   "source": [
    "Binomial_tree(365,1, 20, 0.14, 0.04, 20, False)"
   ]
  },
  {
   "cell_type": "code",
   "execution_count": 24,
   "metadata": {},
   "outputs": [
    {
     "name": "stdout",
     "output_type": "stream",
     "text": [
      "The current option value is $1.53\n"
     ]
    }
   ],
   "source": [
    "Binomial_tree(730,1, 20, 0.14, 0.04, 20, False)"
   ]
  },
  {
   "cell_type": "code",
   "execution_count": 25,
   "metadata": {},
   "outputs": [
    {
     "name": "stdout",
     "output_type": "stream",
     "text": [
      "The current option value is $1.53\n"
     ]
    }
   ],
   "source": [
    "Binomial_tree(10000,1, 20, 0.14, 0.04, 20, False)"
   ]
  },
  {
   "cell_type": "code",
   "execution_count": 28,
   "metadata": {},
   "outputs": [],
   "source": [
    "#same func as before but without the ability to show the tree\n",
    "#function returns the current price only\n",
    "\n",
    "def binomial_tree(N, T, price, sigma, r, strike):\n",
    "    #N is the number of intervales, ie tree layers\n",
    "    #t is time to maturity\n",
    "    #generating the length of each time step and the up/down move factors\n",
    "    t = T/N\n",
    "    u = np.exp(sigma * np.sqrt(t))\n",
    "    d = 1/u\n",
    "\n",
    "    #risk neutral propbabilities in one period\n",
    "    p_u = (np.exp(r * t)- d)/(u - d)\n",
    "    p_d = 1-p_u\n",
    "    \n",
    "    #creating the stock tree begining with an empty matrix\n",
    "    stock_tree = np.zeros([N+1,N+1])\n",
    "    \n",
    "    #iterating over the matrix and populating the stock price at each node\n",
    "    for i in range(N+1):\n",
    "        for j in range(i+1):\n",
    "            stock_tree[j,i] = price * (u**(i-j))* (d**j)\n",
    "\n",
    "    #generating the option tree as an empty matrix as well\n",
    "    call_tree = np.zeros([N+1,N+1])\n",
    "\n",
    "    #value of the option at time, t\n",
    "    call_tree[:,N]= np.maximum(np.zeros(N + 1), (stock_tree[:, N] - strike))\n",
    "    \n",
    "    #iterating over the matrix using recursion (time, t to now)\n",
    "    for i in range(N - 1, -1, -1):\n",
    "        for j in range(0, i + 1):\n",
    "            call_tree[j, i] = (p_u * call_tree[j, i + 1] + p_d * call_tree[j + 1, i + 1])*(np.exp(-r*t))\n",
    "    \n",
    "    return round(call_tree[0,0],2)"
   ]
  },
  {
   "cell_type": "code",
   "execution_count": 31,
   "metadata": {},
   "outputs": [],
   "source": [
    "#running this cell should take several minutes \n",
    "\n",
    "#creating a list range of time steps to iterate over\n",
    "N = list(range(1,200))\n",
    "#initiating an empty list to store the vairous prices\n",
    "call_prices = []\n",
    "\n",
    "#creating a list of prices in increasingly small time steps\n",
    "\n",
    "for n in N:\n",
    "    call_prices.append(binomial_tree(n,1,20, 0.14, 0.04, 20))"
   ]
  },
  {
   "cell_type": "code",
   "execution_count": 32,
   "metadata": {},
   "outputs": [
    {
     "data": {
      "image/png": "[encoded data removed]",
      "text/plain": [
       "<Figure size 864x864 with 1 Axes>"
      ]
     },
     "metadata": {
      "needs_background": "light"
     },
     "output_type": "display_data"
    }
   ],
   "source": [
    "plt.figure(figsize=(12,12))\n",
    "plt.plot(N,call_prices)\n",
    "plt.title(\"Call Price Convergence\", fontsize =20)\n",
    "plt.show()"
   ]
  },
  {
   "cell_type": "markdown",
   "metadata": {},
   "source": [
    "As we make the time steps arbitrarily small, the math approaches a continuous time model and the binomial model converges to the black-scholes-merton option pricing model\n",
    "\n",
    "Often referred to only as the Black-Scholes model, the BSM model is based on the underlying assumption that stock prices follow a lognormal distribution.  "
   ]
  },
  {
   "cell_type": "code",
   "execution_count": 34,
   "metadata": {},
   "outputs": [],
   "source": [
    "import scipy.stats as sp\n"
   ]
  },
  {
   "cell_type": "markdown",
   "metadata": {},
   "source": [
    "Use Scipy to construct the bsm model"
   ]
  },
  {
   "cell_type": "code",
   "execution_count": 33,
   "metadata": {},
   "outputs": [],
   "source": [
    "def ln_stockT(price, mu, sigma, T):\n",
    "    #finding the distribution parameters of the stock price at time, T\n",
    "    #price = stock price at time \n",
    "    #mu = expected return on stock per year\n",
    "    #sigma = volatility of stock price per year\n",
    "    #Will return N[m,s] or normal distribution with mean m and standard deviation s\n",
    "    \n",
    "    m = np.log(price)+ (mu -((sigma**2)/2))*T\n",
    "    \n",
    "    s = sigma * np.sqrt(T)\n",
    "    \n",
    "    #since the natural log of stock price at time, T is normally distributed, ST has a lognormal distribution\n",
    "    return m, s"
   ]
  },
  {
   "cell_type": "markdown",
   "metadata": {},
   "source": [
    "If we divide the output of this formula by T, we get the continuously compounded annual return of the stock price.  The continuously compounded annual returns are normally distributed with a mean and stddev below"
   ]
  },
  {
   "cell_type": "code",
   "execution_count": 35,
   "metadata": {},
   "outputs": [],
   "source": [
    "def continuous_m_s(price, mu, sigma, T):\n",
    "    #using the output from our log of price as inputs\n",
    "    m,s = ln_stockT(price, mu, sigma, T)\n",
    "    \n",
    "    #continuous mean is the mean less the natual log of price divided by time\n",
    "    mean = (m-np.log(price))/T\n",
    "    \n",
    "    #continuous standard deviation is sigma over time\n",
    "    stdev = s/T\n",
    "    \n",
    "    return mean, stdev"
   ]
  },
  {
   "cell_type": "code",
   "execution_count": 37,
   "metadata": {},
   "outputs": [
    {
     "data": {
      "text/plain": [
       "(3.2438758248682005, 0.1)"
      ]
     },
     "execution_count": 37,
     "metadata": {},
     "output_type": "execute_result"
    }
   ],
   "source": [
    "ln_stockT(25,.12,.2,(3/12))"
   ]
  },
  {
   "cell_type": "code",
   "execution_count": 38,
   "metadata": {},
   "outputs": [
    {
     "data": {
      "text/plain": [
       "(0.09999999999999998, 0.1)"
      ]
     },
     "execution_count": 38,
     "metadata": {},
     "output_type": "execute_result"
    }
   ],
   "source": [
    "continuous_m_s(25,.12,.2,4)"
   ]
  },
  {
   "cell_type": "markdown",
   "metadata": {},
   "source": [
    "Given what we know about lognormal distributions, we can use this to infer a formula about expected value of the stock at time, T"
   ]
  },
  {
   "cell_type": "code",
   "execution_count": 39,
   "metadata": {},
   "outputs": [],
   "source": [
    "def ev_stockT(price,mu,T):\n",
    "    #calculating the expectected value of the stock at time,T\n",
    "    ev = price*np.exp(mu*T)\n",
    "    return ev"
   ]
  },
  {
   "cell_type": "code",
   "execution_count": 40,
   "metadata": {},
   "outputs": [
    {
     "data": {
      "text/plain": [
       "27.629272951891192"
      ]
     },
     "execution_count": 40,
     "metadata": {},
     "output_type": "execute_result"
    }
   ],
   "source": [
    "ev_stockT(25,.2,.5)"
   ]
  },
  {
   "cell_type": "markdown",
   "metadata": {},
   "source": [
    "Notice that this is similar to the differences between arithmetic mean and geometric mean: like geometric mean, the mean return (mu) will always be alittle less than the expected annual return (like the arithmetic mean)"
   ]
  },
  {
   "cell_type": "markdown",
   "metadata": {},
   "source": [
    "We need to recall here that the binomial model creates a replicating portfolio that is designed to yield the risk-free rate.  To derive the BSM in continuous time we create an instantaneously riskless portfolio - i.e. one that is risk free over the next instant- using similar logic.\n",
    "\n",
    "Before we do that we need to address the other assumptions for the BSM model.\n",
    "\n",
    "\n",
    "1. No arbitrage (like the Binomial model)\n",
    "2. Price of underlying asset follows a lognormal dist\n",
    "3. The continuous risk free rate is constant and known\n",
    "4. Volatility of the underlier is constant and known\n",
    "5. Markets are frictionless \n",
    "6. The underlying asset has no cash flow - we did talk about dividends, but this is not part of the BSM model assumptions - we can try to model the scenario but that’s out of scope for this discussion\n",
    "7. Options are valued as european options - again American style is out of scope for now\n"
   ]
  },
  {
   "cell_type": "markdown",
   "metadata": {},
   "source": [
    "Because this is a continuous time model we need a continuous distribution to correctly work with the formula.  Scipy will help us here\n"
   ]
  },
  {
   "cell_type": "code",
   "execution_count": 41,
   "metadata": {},
   "outputs": [],
   "source": [
    "def d1(S,X,rf,sigma, T):\n",
    "    #T - time to maturity as a % of a 365 day year\n",
    "    #sigma - volatility of continuously compounded returns on the stock\n",
    "    #rf - continuously conpounded risk free rate\n",
    "    #X - strike price\n",
    "    #S - stock price at time 0\n",
    "    num = np.log(S/X)+(rf+(0.5*sigma**2))*T\n",
    "    denom =sigma *np.sqrt(T)\n",
    "    d = num/denom\n",
    "    return d"
   ]
  },
  {
   "cell_type": "code",
   "execution_count": 42,
   "metadata": {},
   "outputs": [],
   "source": [
    "def d2(d1,sigma, T):\n",
    "    #we need both d1 and d2, so we will calculate them both, and can therefore use it as input instead\n",
    "    #of imbedding the other function\n",
    "    f2 = d1-(sigma*np.sqrt(T))\n",
    "    return f2"
   ]
  },
  {
   "cell_type": "code",
   "execution_count": 43,
   "metadata": {},
   "outputs": [],
   "source": [
    "def BSM(S,X,rf,sigma, T, flag='call'):\n",
    "    #calculating our factors\n",
    "    factor1 = d1(S,X,rf,sigma, T)\n",
    "    factor2 = d2(factor1,sigma, T)\n",
    "    \n",
    "    #pulling the value of d1 and d2 from the cdf with a mean of 0, and a variance of 1 \n",
    "    n1 = sp.norm.cdf(factor1, 0.0, 1.0)\n",
    "    n2 = sp.norm.cdf(factor2, 0.0, 1.0)\n",
    "    \n",
    "    #returning the type of option requested or printing error\n",
    "    if flag == 'call':\n",
    "        call = (S*n1) - (X*np.exp(-rf*T)*n2)\n",
    "        return round(call,2)\n",
    "    \n",
    "    elif flag == 'put':\n",
    "        put = (X*np.exp(-rf*T)*(1-n2))-(S*(1-n1))\n",
    "        return round(put,2)\n",
    "    \n",
    "    elif flag =='both':\n",
    "        call = (S*n1) - (X*np.exp(-rf*T)*n2)\n",
    "        put = call - S +(X*np.exp(-rf*T))\n",
    "        return round(call,2), round(put,2)\n",
    "    \n",
    "    else:\n",
    "        print(\"The flag must read 'put','call', or 'both'.  Please try again.\")"
   ]
  },
  {
   "cell_type": "code",
   "execution_count": 46,
   "metadata": {},
   "outputs": [
    {
     "data": {
      "text/plain": [
       "(1.53, 0.75)"
      ]
     },
     "execution_count": 46,
     "metadata": {},
     "output_type": "execute_result"
    }
   ],
   "source": [
    "BSM(20,20,.04,.14,1,'both')"
   ]
  },
  {
   "cell_type": "code",
   "execution_count": 50,
   "metadata": {},
   "outputs": [
    {
     "data": {
      "image/png": "[encoded data removed]",
      "text/plain": [
       "<Figure size 864x864 with 1 Axes>"
      ]
     },
     "metadata": {
      "needs_background": "light"
     },
     "output_type": "display_data"
    }
   ],
   "source": [
    "plt.figure(figsize=(12,12))\n",
    "plt.plot(N,call_prices, label='Binomial price')\n",
    "plt.hlines(1.53,0, 200, colors = 'r', linestyles='-', label='BSM price')\n",
    "plt.title(\"Call Price Convergence\", fontsize =20)\n",
    "plt.legend()\n",
    "plt.show()"
   ]
  },
  {
   "cell_type": "code",
   "execution_count": null,
   "metadata": {},
   "outputs": [],
   "source": []
  },
  {
   "cell_type": "code",
   "execution_count": null,
   "metadata": {},
   "outputs": [],
   "source": []
  },
  {
   "cell_type": "code",
   "execution_count": null,
   "metadata": {},
   "outputs": [],
   "source": []
  },
  {
   "cell_type": "code",
   "execution_count": null,
   "metadata": {},
   "outputs": [],
   "source": []
  },
  {
   "cell_type": "code",
   "execution_count": null,
   "metadata": {},
   "outputs": [],
   "source": []
  },
  {
   "cell_type": "code",
   "execution_count": null,
   "metadata": {},
   "outputs": [],
   "source": []
  }
 ],
 "metadata": {
  "kernelspec": {
   "display_name": "Python 3",
   "language": "python",
   "name": "python3"
  },
  "language_info": {
   "codemirror_mode": {
    "name": "ipython",
    "version": 3
   },
   "file_extension": ".py",
   "mimetype": "text/x-python",
   "name": "python",
   "nbconvert_exporter": "python",
   "pygments_lexer": "ipython3",
   "version": "3.7.4"
  }
 },
 "nbformat": 4,
 "nbformat_minor": 2
}
